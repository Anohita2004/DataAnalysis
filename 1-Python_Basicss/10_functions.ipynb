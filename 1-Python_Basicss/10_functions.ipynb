{
 "cells": [
  {
   "cell_type": "code",
   "execution_count": null,
   "id": "d69d8ff1",
   "metadata": {},
   "outputs": [],
   "source": [
    "def"
   ]
  },
  {
   "cell_type": "code",
   "execution_count": null,
   "id": "3253e1ba",
   "metadata": {},
   "outputs": [],
   "source": [
    "#creating a function to detect if a number is odd or even\n",
    "def odd_or_even(num):\n",
    "    if num%2 == 0:\n",
    "        print(\"even\")\n",
    "    else:\n",
    "        print(\"odd\")\n",
    "        "
   ]
  },
  {
   "cell_type": "code",
   "execution_count": 2,
   "id": "dd71475b",
   "metadata": {},
   "outputs": [
    {
     "name": "stdout",
     "output_type": "stream",
     "text": [
      "even\n"
     ]
    }
   ],
   "source": [
    "num1 = int(input(\"enter the number\"))\n",
    "odd_or_even(num1)"
   ]
  },
  {
   "cell_type": "code",
   "execution_count": null,
   "id": "2c4e146c",
   "metadata": {},
   "outputs": [],
   "source": [
    "def print_nos(*args):#positional argument\n",
    "    for arg in args:\n",
    "        print(arg)"
   ]
  },
  {
   "cell_type": "code",
   "execution_count": 4,
   "id": "937ecc96",
   "metadata": {},
   "outputs": [
    {
     "name": "stdout",
     "output_type": "stream",
     "text": [
      "1\n",
      "2\n",
      "3\n",
      "4\n",
      "5\n",
      "6\n",
      "7\n",
      "8\n",
      "9\n",
      "9\n",
      "8\n",
      "7\n",
      "6\n",
      "5\n",
      "4\n",
      "3\n",
      "2\n",
      "1\n"
     ]
    }
   ],
   "source": [
    "print_nos(1,2,3,4,5,6,7,8,9,9,8,7,6,5,4,3,2,1)"
   ]
  },
  {
   "cell_type": "code",
   "execution_count": null,
   "id": "70460aa7",
   "metadata": {},
   "outputs": [],
   "source": [
    "#keyword argument: has its values stored in dictionaries\n",
    "def print_details(**kwargs,*args):\n",
    "    for key,values in kwargs.items():\n",
    "        print(f'{key}:{values}')"
   ]
  },
  {
   "cell_type": "code",
   "execution_count": 10,
   "id": "758c38c3",
   "metadata": {},
   "outputs": [
    {
     "name": "stdout",
     "output_type": "stream",
     "text": [
      "name:Anohita\n",
      "age:23\n",
      "country:India\n"
     ]
    }
   ],
   "source": [
    "print_details(name=\"Anohita\",age=23,country=\"India\")\n",
    "\n"
   ]
  },
  {
   "cell_type": "code",
   "execution_count": null,
   "id": "fbf44eb1",
   "metadata": {},
   "outputs": [],
   "source": []
  }
 ],
 "metadata": {
  "kernelspec": {
   "display_name": "Python 3",
   "language": "python",
   "name": "python3"
  },
  "language_info": {
   "codemirror_mode": {
    "name": "ipython",
    "version": 3
   },
   "file_extension": ".py",
   "mimetype": "text/x-python",
   "name": "python",
   "nbconvert_exporter": "python",
   "pygments_lexer": "ipython3",
   "version": "3.12.0"
  }
 },
 "nbformat": 4,
 "nbformat_minor": 5
}
