{
 "cells": [
  {
   "cell_type": "code",
   "execution_count": 1,
   "metadata": {},
   "outputs": [
    {
     "name": "stdout",
     "output_type": "stream",
     "text": [
      "32\n",
      "6.1\n",
      "Krish\n",
      "True\n"
     ]
    }
   ],
   "source": [
    "##Declaring and assigning values to variables\n",
    "age = 32\n",
    "height =6.1\n",
    "name =\"Krish\"\n",
    "is_student = True\n",
    "\n",
    "##Printing the values\n",
    "\n",
    "print(age)\n",
    "print(height)\n",
    "print(name)\n",
    "print(is_student)"
   ]
  },
  {
   "cell_type": "code",
   "execution_count": null,
   "metadata": {},
   "outputs": [],
   "source": [
    "## Naming conventions\n",
    "first_name = \"Rajiv\"\n",
    "last_name = \"Lakshman\"\n"
   ]
  },
  {
   "cell_type": "code",
   "execution_count": 3,
   "metadata": {},
   "outputs": [
    {
     "name": "stdout",
     "output_type": "stream",
     "text": [
      "<class 'int'>\n",
      "<class 'str'>\n"
     ]
    }
   ],
   "source": [
    "##Understanding variable types\n",
    "age = 49\n",
    "name = \"Rajiv\"\n",
    "print(type(age))\n",
    "print(type(name))"
   ]
  },
  {
   "cell_type": "code",
   "execution_count": 4,
   "metadata": {},
   "outputs": [
    {
     "name": "stdout",
     "output_type": "stream",
     "text": [
      "<class 'str'>\n"
     ]
    }
   ],
   "source": [
    "##Type Conversion\n",
    "age =35\n",
    "\n",
    "# Convert to string\n",
    "\n",
    "age_str = str(age)\n",
    "print(type(age_str))"
   ]
  },
  {
   "cell_type": "code",
   "execution_count": 5,
   "metadata": {},
   "outputs": [
    {
     "name": "stdout",
     "output_type": "stream",
     "text": [
      "32 <class 'int'>\n",
      "Hello <class 'str'>\n"
     ]
    }
   ],
   "source": [
    "##Dynamic Typing\n",
    "var = 32\n",
    "print(var,type(var))\n",
    "\n",
    "var = \"Hello\"\n",
    "\n",
    "print(var,type(var))\n",
    "\n"
   ]
  },
  {
   "cell_type": "code",
   "execution_count": 2,
   "metadata": {},
   "outputs": [
    {
     "name": "stdout",
     "output_type": "stream",
     "text": [
      "32 <class 'str'>\n"
     ]
    }
   ],
   "source": [
    "##  Taking input from the user\n",
    "age= input(\"What is your age?\")\n",
    "print(age,type(age))"
   ]
  },
  {
   "cell_type": "code",
   "execution_count": 3,
   "metadata": {},
   "outputs": [
    {
     "name": "stdout",
     "output_type": "stream",
     "text": [
      "67 <class 'int'>\n"
     ]
    }
   ],
   "source": [
    "##  Taking input from the user\n",
    "age= int(input(\"What is your age?\"))\n",
    "print(age,type(age))"
   ]
  },
  {
   "cell_type": "code",
   "execution_count": 1,
   "metadata": {},
   "outputs": [
    {
     "name": "stdout",
     "output_type": "stream",
     "text": [
      "130\n"
     ]
    }
   ],
   "source": [
    "#A SIMPLE CALCULATOR:\n",
    "a= int(input(\"Enter the first number: \"))\n",
    "b= int(input(\"Enter the first number: \"))\n",
    "op= input(\"What operation will you perform(add,sub,multiply,divide)? \")\n",
    "if op == \"add\":\n",
    "    print(a+b)\n",
    "elif op == \"sub\":\n",
    "    if a>b:\n",
    "      print(a-b)\n",
    "    else:\n",
    "        print(b-a)  \n",
    "elif op == \"multiply\":\n",
    "    print(a*b)\n",
    "elif op == \"divide\":\n",
    "    if b!=0:\n",
    "        print(a/b)\n",
    "    else:\n",
    "        print(\"Cannot divide by zero\")\n",
    "else:\n",
    "    print(\"Invalid operation\")        "
   ]
  },
  {
   "cell_type": "code",
   "execution_count": null,
   "metadata": {},
   "outputs": [],
   "source": []
  }
 ],
 "metadata": {
  "kernelspec": {
   "display_name": "Python 3",
   "language": "python",
   "name": "python3"
  },
  "language_info": {
   "codemirror_mode": {
    "name": "ipython",
    "version": 3
   },
   "file_extension": ".py",
   "mimetype": "text/x-python",
   "name": "python",
   "nbconvert_exporter": "python",
   "pygments_lexer": "ipython3",
   "version": "3.12.0"
  }
 },
 "nbformat": 4,
 "nbformat_minor": 2
}
