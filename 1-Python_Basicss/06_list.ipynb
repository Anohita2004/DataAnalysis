{
 "cells": [
  {
   "cell_type": "markdown",
   "metadata": {},
   "source": [
    "##LISTS ARE ORDERED ,MUTABLE COLLECTION OF DATA ITEMSS THAT CAN CONTAIN ITEMS OF ANY NUMBER OF DATA TYPES"
   ]
  },
  {
   "cell_type": "code",
   "execution_count": 1,
   "metadata": {},
   "outputs": [
    {
     "name": "stdout",
     "output_type": "stream",
     "text": [
      "['rohan', 'bunny', 'raina', 'ranveer']\n"
     ]
    }
   ],
   "source": [
    "##CREATING A LIST\n",
    "names=[\"rohan\",\"bunny\",\"raina\",\"ranveer\"]\n",
    "print(names)"
   ]
  },
  {
   "cell_type": "code",
   "execution_count": 2,
   "metadata": {},
   "outputs": [
    {
     "name": "stdout",
     "output_type": "stream",
     "text": [
      "['Roahzia', 8, True, 32.456]\n"
     ]
    }
   ],
   "source": [
    "##CREATING A MIXED LIST\n",
    "mixed_names=[\"Roahzia\",8,True,32.456]\n",
    "print(mixed_names)"
   ]
  },
  {
   "cell_type": "code",
   "execution_count": 9,
   "metadata": {},
   "outputs": [
    {
     "name": "stdout",
     "output_type": "stream",
     "text": [
      "apple\n",
      "apple\n",
      "pineapple\n",
      "['banana', 'kiwi', 'mango', 'pineapple']\n"
     ]
    }
   ],
   "source": [
    "##ACCESSING LIST ITEMS\n",
    "fruits=[\"apple\",\"cherry\",\"banana\",\"kiwi\",\"mango\",\"pineapple\"]\n",
    "print(fruits[0])\n",
    "print(fruits[0])\n",
    "print(fruits[-1])\n",
    "print(fruits[2:6])"
   ]
  },
  {
   "cell_type": "code",
   "execution_count": null,
   "metadata": {},
   "outputs": [
    {
     "name": "stdout",
     "output_type": "stream",
     "text": [
      "['apple', 'cherry', 'banana', 'kiwi', 'mango', 'pineapple', 'jamaican raspberry', 'jamaican raspberry', 'jamaican raspberry', 'jamaican raspberry']\n"
     ]
    }
   ],
   "source": [
    "##LIST METHODS\n",
    "fruits.append(\"jamaican raspberry\")\n",
    "print(fruits)"
   ]
  },
  {
   "cell_type": "code",
   "execution_count": 16,
   "metadata": {},
   "outputs": [],
   "source": [
    "fruits.insert(2,\"alphanso mango\")"
   ]
  },
  {
   "cell_type": "code",
   "execution_count": 21,
   "metadata": {},
   "outputs": [
    {
     "data": {
      "text/plain": [
       "'mango'"
      ]
     },
     "execution_count": 21,
     "metadata": {},
     "output_type": "execute_result"
    }
   ],
   "source": [
    "fruits.pop()\n",
    "fruits.pop()"
   ]
  },
  {
   "cell_type": "code",
   "execution_count": 22,
   "metadata": {},
   "outputs": [
    {
     "data": {
      "text/plain": [
       "['apple', 'cherry', 'alphanso mango', 'banana', 'kiwi']"
      ]
     },
     "execution_count": 22,
     "metadata": {},
     "output_type": "execute_result"
    }
   ],
   "source": [
    "fruits"
   ]
  },
  {
   "cell_type": "code",
   "execution_count": 25,
   "metadata": {},
   "outputs": [
    {
     "data": {
      "text/plain": [
       "['alphanso mango', 'apple', 'banana', 'cherry', 'kiwi']"
      ]
     },
     "execution_count": 25,
     "metadata": {},
     "output_type": "execute_result"
    }
   ],
   "source": [
    "fruits.sort()\n",
    "fruits"
   ]
  },
  {
   "cell_type": "code",
   "execution_count": 26,
   "metadata": {},
   "outputs": [
    {
     "data": {
      "text/plain": [
       "['kiwi', 'cherry', 'banana', 'apple', 'alphanso mango']"
      ]
     },
     "execution_count": 26,
     "metadata": {},
     "output_type": "execute_result"
    }
   ],
   "source": [
    "fruits.sort(reverse=True)\n",
    "fruits"
   ]
  },
  {
   "cell_type": "code",
   "execution_count": 31,
   "metadata": {},
   "outputs": [
    {
     "name": "stdout",
     "output_type": "stream",
     "text": [
      "[1, 2, 3, 4, 5]\n",
      "[6, 7, 8, 9, 10]\n",
      "[1, 2, 3, 4, 5, 6, 7, 8, 9, 10]\n",
      "[1, 3, 5, 7, 9]\n",
      "[3, 5]\n",
      "[10, 9, 8, 7, 6, 5, 4, 3, 2, 1]\n"
     ]
    }
   ],
   "source": [
    "##SLICING A LIST\n",
    "numbers=[1,2,3,4,5,6,7,8,9,10]\n",
    "print(numbers[:5])\n",
    "print(numbers[5:])\n",
    "print(numbers[:])\n",
    "print(numbers[::2])\n",
    "print(numbers[2:5:2])\n",
    "print(numbers[::-1])\n"
   ]
  },
  {
   "cell_type": "code",
   "execution_count": 32,
   "metadata": {},
   "outputs": [
    {
     "name": "stdout",
     "output_type": "stream",
     "text": [
      "index: 0, number: 1\n",
      "index: 1, number: 2\n",
      "index: 2, number: 3\n",
      "index: 3, number: 4\n",
      "index: 4, number: 5\n",
      "index: 5, number: 6\n",
      "index: 6, number: 7\n",
      "index: 7, number: 8\n",
      "index: 8, number: 9\n",
      "index: 9, number: 10\n"
     ]
    }
   ],
   "source": [
    "for index,number in enumerate(numbers):\n",
    "    print(f\"index: {index}, number: {number}\")\n",
    "    "
   ]
  },
  {
   "cell_type": "code",
   "execution_count": 33,
   "metadata": {},
   "outputs": [
    {
     "data": {
      "text/plain": [
       "[0, 1, 8, 27, 64]"
      ]
     },
     "execution_count": 33,
     "metadata": {},
     "output_type": "execute_result"
    }
   ],
   "source": [
    "##LIST COMPREHENSIONS\n",
    "[i**3 for i in range(5)]"
   ]
  },
  {
   "cell_type": "code",
   "execution_count": null,
   "metadata": {},
   "outputs": [],
   "source": []
  }
 ],
 "metadata": {
  "kernelspec": {
   "display_name": "Python 3",
   "language": "python",
   "name": "python3"
  },
  "language_info": {
   "codemirror_mode": {
    "name": "ipython",
    "version": 3
   },
   "file_extension": ".py",
   "mimetype": "text/x-python",
   "name": "python",
   "nbconvert_exporter": "python",
   "pygments_lexer": "ipython3",
   "version": "3.12.0"
  }
 },
 "nbformat": 4,
 "nbformat_minor": 2
}
