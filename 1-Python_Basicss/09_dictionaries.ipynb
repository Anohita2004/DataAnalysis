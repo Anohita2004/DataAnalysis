{
 "cells": [
  {
   "cell_type": "code",
   "execution_count": 2,
   "metadata": {},
   "outputs": [],
   "source": [
    "## Dictionaries-->an unordered collection of times where data is stored in the form of key value pairs.\n",
    "#Keys should be unique but values can be any type.\n"
   ]
  },
  {
   "cell_type": "code",
   "execution_count": 4,
   "metadata": {},
   "outputs": [
    {
     "name": "stdout",
     "output_type": "stream",
     "text": [
      "{}\n"
     ]
    }
   ],
   "source": [
    "##Creating empty dictionary\n",
    "new_dict={}\n",
    "print(new_dict)"
   ]
  },
  {
   "cell_type": "code",
   "execution_count": 5,
   "metadata": {},
   "outputs": [
    {
     "name": "stdout",
     "output_type": "stream",
     "text": [
      "{}\n"
     ]
    }
   ],
   "source": [
    "##Another way of creating an empty dictionary\n",
    "new_dict_1=dict()\n",
    "print(new_dict_1)"
   ]
  },
  {
   "cell_type": "code",
   "execution_count": 6,
   "metadata": {},
   "outputs": [
    {
     "name": "stdout",
     "output_type": "stream",
     "text": [
      "{'name': 'Anohita', 'age': 20, 'semester': '6th'}\n"
     ]
    }
   ],
   "source": [
    "##Creating a dictionary\n",
    "student={\"name\":\"Anohita\",\"age\":20,\"semester\":\"6th\"}\n",
    "print(student)"
   ]
  },
  {
   "cell_type": "code",
   "execution_count": 7,
   "metadata": {},
   "outputs": [
    {
     "name": "stdout",
     "output_type": "stream",
     "text": [
      "6th\n",
      "Anohita\n",
      "Anohita\n",
      "Key is not present\n"
     ]
    }
   ],
   "source": [
    "##Accessing dictionary elements\n",
    "#accessing normally\n",
    "print(student[\"semester\"])\n",
    "print(student[\"name\"])\n",
    "#acessing using get method\n",
    "print(student.get('name'))\n",
    "print(student.get('last_name','Key is not present'))"
   ]
  },
  {
   "cell_type": "code",
   "execution_count": 11,
   "metadata": {},
   "outputs": [
    {
     "name": "stdout",
     "output_type": "stream",
     "text": [
      "{'name': 'Anohita', 'age': 20, 'semester': '6th', 'grade': '6th semester'}\n",
      "{'name': 'Anohita', 'age': 20, 'semester': '6th'}\n"
     ]
    }
   ],
   "source": [
    "##Modifying\n",
    "##adding a new key value pair\n",
    "student[\"grade\"]=\"6th semester\"\n",
    "print(student)\n",
    "##deleting the key value pair\n",
    "del student[\"grade\"]\n",
    "print(student)"
   ]
  },
  {
   "cell_type": "code",
   "execution_count": 15,
   "metadata": {},
   "outputs": [
    {
     "name": "stdout",
     "output_type": "stream",
     "text": [
      "name\n",
      "age\n",
      "semester\n",
      "Anohita\n",
      "20\n",
      "6th\n",
      "name:Anohita\n",
      "age:20\n",
      "semester:6th\n"
     ]
    }
   ],
   "source": [
    "##ITERATING OVER DICTIONARIES\n",
    "##Iterating over keys\n",
    "for key in student.keys():\n",
    "    print(key)\n",
    "##Iterating over values\n",
    "for value in student.values():\n",
    "    print(value)    \n",
    "##Iterating over key-value pairs\n",
    "for key,value in student.items():\n",
    "    print(f\"{key}:{value}\")    "
   ]
  },
  {
   "cell_type": "code",
   "execution_count": 20,
   "metadata": {},
   "outputs": [
    {
     "name": "stdout",
     "output_type": "stream",
     "text": [
      "{'student_1': {'name': 'Anohita Mukherjee', 'age': '20'}, 'student_2': {'name': 'Ankita Sen', 'age': '21'}, 'student_3': {'name': 'Nabanita Deb', 'age': '26'}}\n",
      "Ankita Sen\n"
     ]
    }
   ],
   "source": [
    "## NESTED DICTIONARIES\n",
    "student_profile={\n",
    "    \"student_1\":{\"name\":\"Anohita Mukherjee\",\"age\":\"20\"},\n",
    "    \"student_2\":{\"name\":\"Ankita Sen\",\"age\":\"21\"},\n",
    "    \"student_3\":{\"name\":\"Nabanita Deb\",\"age\":\"26\"}\n",
    "    }\n",
    "print(student_profile)\n",
    "print(student_profile[\"student_2\"][\"name\"])\n",
    "    \n",
    "        "
   ]
  },
  {
   "cell_type": "code",
   "execution_count": null,
   "metadata": {},
   "outputs": [],
   "source": []
  }
 ],
 "metadata": {
  "kernelspec": {
   "display_name": "Python 3",
   "language": "python",
   "name": "python3"
  },
  "language_info": {
   "codemirror_mode": {
    "name": "ipython",
    "version": 3
   },
   "file_extension": ".py",
   "mimetype": "text/x-python",
   "name": "python",
   "nbconvert_exporter": "python",
   "pygments_lexer": "ipython3",
   "version": "3.12.0"
  }
 },
 "nbformat": 4,
 "nbformat_minor": 2
}
