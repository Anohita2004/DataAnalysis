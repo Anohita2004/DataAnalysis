{
 "cells": [
  {
   "cell_type": "code",
   "execution_count": 1,
   "metadata": {},
   "outputs": [],
   "source": [
    "##INTRODUCTION TO TUPLES"
   ]
  },
  {
   "cell_type": "code",
   "execution_count": 2,
   "metadata": {},
   "outputs": [
    {
     "name": "stdout",
     "output_type": "stream",
     "text": [
      "()\n",
      "<class 'tuple'>\n"
     ]
    }
   ],
   "source": [
    "##CREATING TUPLES:-\n",
    "empty_tuple=()\n",
    "print(empty_tuple)\n",
    "print(type(empty_tuple))"
   ]
  },
  {
   "cell_type": "code",
   "execution_count": 3,
   "metadata": {},
   "outputs": [
    {
     "name": "stdout",
     "output_type": "stream",
     "text": [
      "1\n"
     ]
    }
   ],
   "source": [
    "##ACCESSING TUPLE ELEMENTS:\n",
    "numbers=(1,2,3,4,5)\n",
    "print(numbers[0])"
   ]
  },
  {
   "cell_type": "code",
   "execution_count": 7,
   "metadata": {},
   "outputs": [
    {
     "name": "stdout",
     "output_type": "stream",
     "text": [
      "(1, 3, 5, 7, 9, 2, 4, 6, 8, 10)\n",
      "(1, 3, 5, 7, 9, 1, 3, 5, 7, 9, 1, 3, 5, 7, 9, 1, 3, 5, 7, 9)\n"
     ]
    }
   ],
   "source": [
    "##TUPLE OPERATIONS:\n",
    "tuple_1=(1,3,5,7,9)\n",
    "tuple_2=(2,4,6,8,10)\n",
    "tuple_3=tuple_1+tuple_2\n",
    "print(tuple_3)\n",
    "print(tuple_1*4)"
   ]
  },
  {
   "cell_type": "code",
   "execution_count": 9,
   "metadata": {},
   "outputs": [],
   "source": [
    "##TUPLE IMMUTABILITY(Assigned elements of the tuples cannot be changed once assigned):-\n",
    "numbers_2=(1,2,4,5,7,8)\n",
    "#numbers_2[3]=\"Hello\"##this is wrong and throws error"
   ]
  },
  {
   "cell_type": "code",
   "execution_count": 14,
   "metadata": {},
   "outputs": [
    {
     "name": "stdout",
     "output_type": "stream",
     "text": [
      "1\n",
      "3\n"
     ]
    }
   ],
   "source": [
    "##TUPLE METHODS:-\n",
    "#TUPLE COUNT:-\n",
    "print(numbers_2.count(1))\n",
    "#TUPLE INDEX:-\n",
    "print(numbers_2.index(5))"
   ]
  },
  {
   "cell_type": "code",
   "execution_count": 17,
   "metadata": {},
   "outputs": [
    {
     "name": "stdout",
     "output_type": "stream",
     "text": [
      "(1, 'Anohita', 'Jack', 32.12)\n",
      "1,Anohita,Jack and 32.12\n"
     ]
    }
   ],
   "source": [
    "##PACKING AND UNPACKING:-\n",
    "just_a_tuple=1,\"Anohita\",\"Jack\",32.12\n",
    "print(just_a_tuple)\n",
    "a,b,c,d=just_a_tuple\n",
    "print(f\"{a},{b},{c} and {d}\")"
   ]
  },
  {
   "cell_type": "code",
   "execution_count": 19,
   "metadata": {},
   "outputs": [
    {
     "name": "stdout",
     "output_type": "stream",
     "text": [
      "1\n",
      "4\n"
     ]
    }
   ],
   "source": [
    "##NESTED TUPLES\n",
    "tup=((1,2,3),(4,5,6),(7,8,9))\n",
    "print(tup[0][0])\n",
    "print(tup[1][0])"
   ]
  },
  {
   "cell_type": "code",
   "execution_count": null,
   "metadata": {},
   "outputs": [],
   "source": []
  }
 ],
 "metadata": {
  "kernelspec": {
   "display_name": "Python 3",
   "language": "python",
   "name": "python3"
  },
  "language_info": {
   "codemirror_mode": {
    "name": "ipython",
    "version": 3
   },
   "file_extension": ".py",
   "mimetype": "text/x-python",
   "name": "python",
   "nbconvert_exporter": "python",
   "pygments_lexer": "ipython3",
   "version": "3.12.0"
  }
 },
 "nbformat": 4,
 "nbformat_minor": 2
}
