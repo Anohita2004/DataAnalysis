{
 "cells": [
  {
   "cell_type": "code",
   "execution_count": 2,
   "metadata": {},
   "outputs": [],
   "source": [
    "##BASIC SYNTAX IN PYTHON:-"
   ]
  },
  {
   "cell_type": "code",
   "execution_count": 4,
   "metadata": {},
   "outputs": [],
   "source": [
    "##CASE SENSITIVITY:-\n",
    "#Python is case sensitive\n",
    "name = \"Rajiv\"\n",
    "Name = \"Ram\""
   ]
  },
  {
   "cell_type": "code",
   "execution_count": 5,
   "metadata": {},
   "outputs": [
    {
     "name": "stdout",
     "output_type": "stream",
     "text": [
      "Rajiv\n",
      "Ram\n"
     ]
    }
   ],
   "source": [
    "print(name)\n",
    "print(Name)"
   ]
  },
  {
   "cell_type": "code",
   "execution_count": 6,
   "metadata": {},
   "outputs": [
    {
     "name": "stdout",
     "output_type": "stream",
     "text": [
      "Hello Rajiv\n"
     ]
    }
   ],
   "source": [
    "#INDENTATION:-\n",
    "  #Python uses indentation for blocks of code, not braces.\n",
    "  #Indentation is a requirement and must be consistent throughout the code.\n",
    "  #In Python, 4 spaces are used for indentation.\n",
    "if name==\"Rajiv\":\n",
    "    print(\"Hello Rajiv\")\n",
    "else:\n",
    "    print(\"Hello Ram\")    "
   ]
  },
  {
   "cell_type": "code",
   "execution_count": 7,
   "metadata": {},
   "outputs": [
    {
     "name": "stdout",
     "output_type": "stream",
     "text": [
      "458\n"
     ]
    }
   ],
   "source": [
    "#LINE CONTINUATION\n",
    "sum= 40+30+76+90+89+\\\n",
    "45+88\n",
    "print(sum)"
   ]
  },
  {
   "cell_type": "code",
   "execution_count": 10,
   "metadata": {},
   "outputs": [
    {
     "name": "stdout",
     "output_type": "stream",
     "text": [
      "<class 'str'>\n",
      "<class 'int'>\n"
     ]
    }
   ],
   "source": [
    "#TYPE INFERENECE\n",
    "name =\"Krish\"\n",
    "age = 40\n",
    "print(type(name))\n",
    "print(type(age))\n"
   ]
  },
  {
   "cell_type": "code",
   "execution_count": null,
   "metadata": {},
   "outputs": [],
   "source": []
  }
 ],
 "metadata": {
  "kernelspec": {
   "display_name": "Python 3",
   "language": "python",
   "name": "python3"
  },
  "language_info": {
   "codemirror_mode": {
    "name": "ipython",
    "version": 3
   },
   "file_extension": ".py",
   "mimetype": "text/x-python",
   "name": "python",
   "nbconvert_exporter": "python",
   "pygments_lexer": "ipython3",
   "version": "3.12.0"
  }
 },
 "nbformat": 4,
 "nbformat_minor": 2
}
